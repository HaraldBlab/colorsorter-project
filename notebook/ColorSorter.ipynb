{
 "cells": [
  {
   "cell_type": "markdown",
   "id": "9a81b56e",
   "metadata": {},
   "source": [
    "# ColorSorter\n",
    "Sort 9 x 20 x 20 little bricks to 15 different colors."
   ]
  },
  {
   "cell_type": "markdown",
   "id": "2923e99c",
   "metadata": {},
   "source": [
    "## How it works\n",
    "\n",
    "### Usage\n",
    "1. Fill the unsorted bricks\n",
    "2. Start the engine\n",
    "3. Select a brick\n",
    "4. Detect the brick color\n",
    "5. Eject the brick to the correct bucket.\n",
    "6. Repeat step 3 until all bricks are handled\n",
    "\n",
    "#### Fill the unsorted bricks\n",
    "* Put the bricks in a funnel\n",
    "\n",
    "#### Start the engine\n",
    "* Power on\n",
    "* Move selector to the funnel\n",
    "\n",
    "#### Select a brick\n",
    "* Selects a single brick from the funnel\n",
    "* Move the brick to the detector\n",
    "\n",
    "#### Detect the brick color\n",
    "* Measure the color of the brick.\n",
    "* Get the color number of the bricks.\n",
    "\n",
    "#### Eject the brick tothe correct bucket\n",
    "* Move the selector to the color solot.\n",
    "* Move the brick to the ejector.\n",
    "\n",
    "#### Repeat step 3 until all bricks are handled\n",
    "* Move selector to the funnel\n"
   ]
  },
  {
   "cell_type": "markdown",
   "id": "ead32be1",
   "metadata": {},
   "source": [
    "### Components\n",
    "\n",
    "#### Selector\n",
    "Servo motor with the duty cycle\n",
    "* Move a brick from the funnel to the detector\n",
    "* Wait until detection is completed.\n",
    "* Wait until ejector is in place.\n",
    "* Move the brick from the detector to the ejector\n",
    "* Move back to the funnel.\n",
    "\n",
    "#### Detector\n",
    "ADPS 9600 color sensor measures the brick color.\n",
    "* Measure the color value of brick\n",
    "* Maps the color value to a color map.\n",
    "* Provides color number for ejector.\n",
    "\n",
    "#### Color map\n",
    "Defines the colors to detect.\n",
    "* Assigns a color number to a color value\n",
    "* Assigns undetected color number for an unknown color value\n",
    "\n",
    "#### Ejector\n",
    "Servo motor with the duty cycle\n",
    "* Wait until detection is completed.\n",
    "* Move to the slot by color number.\n"
   ]
  },
  {
   "cell_type": "markdown",
   "id": "2efc7fd4",
   "metadata": {},
   "source": [
    "## Use a microcontroller\n",
    "\n",
    "### Hardware\n",
    "\n",
    "#### Funnel\n",
    "* 3D printed part to feed the machine\n",
    "* Feeds a single brick at a time.\n",
    "\n",
    "#### ColorSelector\n",
    "* SG90 servo motor to move a brick.\n",
    "* Ring with a slot to hold a single bricks. \n",
    "\n",
    "#### ColorDetector\n",
    "* APDS 9960 color sensor.\n",
    "* 2 white leds to light the scene\n",
    "* ADDON: 2 rgb lights to detect at differnt led colors\n",
    "\n",
    "#### Color Ejector\n",
    "* SG90 servo motor to select a bucket for the bricks.\n",
    "* A spiral to move the brick to the color slot.\n",
    "* 15 buckets for the known colors\n",
    "* 1 bucket for undetected bricks\n",
    "\n",
    "### Software\n",
    "Using the components\n",
    "\n",
    "#### ColorSelector\n",
    "* Handles the movement of the selector.\n",
    "* Implements the duty cycle.\n",
    "\n",
    "#### ColorDetector\n",
    "* Gets the color valeu form the color sesnor.\n",
    "* Gets the color number from the color value.\n",
    "* Handles time between 2 measurements.\n",
    "\n",
    "#### ColorEjector\n",
    "* Handles the movement of the ejector.\n",
    "* Selects a bucket from the detected color number.\n",
    "* Implements the duty cycle.\n",
    "\n"
   ]
  },
  {
   "cell_type": "code",
   "execution_count": null,
   "id": "c22320f4",
   "metadata": {},
   "outputs": [],
   "source": []
  }
 ],
 "metadata": {
  "kernelspec": {
   "display_name": "Python 3",
   "language": "python",
   "name": "python3"
  },
  "language_info": {
   "codemirror_mode": {
    "name": "ipython",
    "version": 3
   },
   "file_extension": ".py",
   "mimetype": "text/x-python",
   "name": "python",
   "nbconvert_exporter": "python",
   "pygments_lexer": "ipython3",
   "version": "3.9.2"
  }
 },
 "nbformat": 4,
 "nbformat_minor": 5
}
